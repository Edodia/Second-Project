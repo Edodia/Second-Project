{
 "cells": [
  {
   "cell_type": "code",
   "execution_count": 22,
   "id": "6f92df49-32e3-45ed-9e54-d2ae3fabda44",
   "metadata": {},
   "outputs": [],
   "source": [
    "import numpy as np\n",
    "import pandas as pd\n",
    "import yfinance as yf\n",
    "from pandas_datareader import data\n",
    "import matplotlib.pyplot as plt\n",
    "%matplotlib inline"
   ]
  },
  {
   "cell_type": "code",
   "execution_count": 23,
   "id": "cc3fa31e-7aa4-4986-af14-6a0047cdbc5f",
   "metadata": {},
   "outputs": [
    {
     "name": "stdout",
     "output_type": "stream",
     "text": [
      "[*********************100%***********************]  7 of 7 completed\n"
     ]
    }
   ],
   "source": [
    "#chosen seven assets\n",
    "adjclose = yf.download(['AAPL','AMZN','JPM','MS','MSFT','TSLA','TSTRX'], period = '1y')['Adj Close']"
   ]
  },
  {
   "cell_type": "code",
   "execution_count": 24,
   "id": "ef4fb15b-0adf-460f-83e5-84cae0af306a",
   "metadata": {},
   "outputs": [],
   "source": [
    "returns = adjclose.pct_change()*100"
   ]
  },
  {
   "cell_type": "code",
   "execution_count": 25,
   "id": "6131a8d9-91b1-4adf-abcb-9fccb8a6a166",
   "metadata": {},
   "outputs": [
    {
     "data": {
      "text/plain": [
       "AAPL      4.801666\n",
       "AMZN      9.210102\n",
       "JPM       3.201174\n",
       "MS        3.610182\n",
       "MSFT      4.849972\n",
       "TSLA     17.745013\n",
       "TSTRX     2.162878\n",
       "dtype: float64"
      ]
     },
     "execution_count": 25,
     "metadata": {},
     "output_type": "execute_result"
    }
   ],
   "source": [
    "#calculate the variance\n",
    "(adjclose.pct_change()*100).var()"
   ]
  },
  {
   "cell_type": "code",
   "execution_count": 26,
   "id": "8cc60098-a3fd-4b98-974e-f4867513d3eb",
   "metadata": {},
   "outputs": [
    {
     "data": {
      "text/plain": [
       "AAPL     0.004111\n",
       "AMZN    -0.137584\n",
       "JPM      0.013826\n",
       "MS       0.035931\n",
       "MSFT    -0.000233\n",
       "TSLA    -0.132836\n",
       "TSTRX   -0.026062\n",
       "dtype: float64"
      ]
     },
     "execution_count": 26,
     "metadata": {},
     "output_type": "execute_result"
    }
   ],
   "source": [
    "#calculate the mean\n",
    "returns.mean()"
   ]
  },
  {
   "cell_type": "code",
   "execution_count": 27,
   "id": "f55ee5ad-d630-4d30-a9a3-3d9ac9645cab",
   "metadata": {},
   "outputs": [
    {
     "data": {
      "text/html": [
       "<div>\n",
       "<style scoped>\n",
       "    .dataframe tbody tr th:only-of-type {\n",
       "        vertical-align: middle;\n",
       "    }\n",
       "\n",
       "    .dataframe tbody tr th {\n",
       "        vertical-align: top;\n",
       "    }\n",
       "\n",
       "    .dataframe thead th {\n",
       "        text-align: right;\n",
       "    }\n",
       "</style>\n",
       "<table border=\"1\" class=\"dataframe\">\n",
       "  <thead>\n",
       "    <tr style=\"text-align: right;\">\n",
       "      <th></th>\n",
       "      <th>AAPL</th>\n",
       "      <th>AMZN</th>\n",
       "      <th>JPM</th>\n",
       "      <th>MS</th>\n",
       "      <th>MSFT</th>\n",
       "      <th>TSLA</th>\n",
       "      <th>TSTRX</th>\n",
       "    </tr>\n",
       "  </thead>\n",
       "  <tbody>\n",
       "    <tr>\n",
       "      <th>AAPL</th>\n",
       "      <td>1.000000</td>\n",
       "      <td>0.706800</td>\n",
       "      <td>0.534515</td>\n",
       "      <td>0.660537</td>\n",
       "      <td>0.794529</td>\n",
       "      <td>0.616826</td>\n",
       "      <td>0.878539</td>\n",
       "    </tr>\n",
       "    <tr>\n",
       "      <th>AMZN</th>\n",
       "      <td>0.706800</td>\n",
       "      <td>1.000000</td>\n",
       "      <td>0.485154</td>\n",
       "      <td>0.605595</td>\n",
       "      <td>0.757547</td>\n",
       "      <td>0.551941</td>\n",
       "      <td>0.804152</td>\n",
       "    </tr>\n",
       "    <tr>\n",
       "      <th>JPM</th>\n",
       "      <td>0.534515</td>\n",
       "      <td>0.485154</td>\n",
       "      <td>1.000000</td>\n",
       "      <td>0.770815</td>\n",
       "      <td>0.488751</td>\n",
       "      <td>0.384680</td>\n",
       "      <td>0.713587</td>\n",
       "    </tr>\n",
       "    <tr>\n",
       "      <th>MS</th>\n",
       "      <td>0.660537</td>\n",
       "      <td>0.605595</td>\n",
       "      <td>0.770815</td>\n",
       "      <td>1.000000</td>\n",
       "      <td>0.604288</td>\n",
       "      <td>0.525405</td>\n",
       "      <td>0.813058</td>\n",
       "    </tr>\n",
       "    <tr>\n",
       "      <th>MSFT</th>\n",
       "      <td>0.794529</td>\n",
       "      <td>0.757547</td>\n",
       "      <td>0.488751</td>\n",
       "      <td>0.604288</td>\n",
       "      <td>1.000000</td>\n",
       "      <td>0.496469</td>\n",
       "      <td>0.850903</td>\n",
       "    </tr>\n",
       "    <tr>\n",
       "      <th>TSLA</th>\n",
       "      <td>0.616826</td>\n",
       "      <td>0.551941</td>\n",
       "      <td>0.384680</td>\n",
       "      <td>0.525405</td>\n",
       "      <td>0.496469</td>\n",
       "      <td>1.000000</td>\n",
       "      <td>0.610893</td>\n",
       "    </tr>\n",
       "    <tr>\n",
       "      <th>TSTRX</th>\n",
       "      <td>0.878539</td>\n",
       "      <td>0.804152</td>\n",
       "      <td>0.713587</td>\n",
       "      <td>0.813058</td>\n",
       "      <td>0.850903</td>\n",
       "      <td>0.610893</td>\n",
       "      <td>1.000000</td>\n",
       "    </tr>\n",
       "  </tbody>\n",
       "</table>\n",
       "</div>"
      ],
      "text/plain": [
       "           AAPL      AMZN       JPM        MS      MSFT      TSLA     TSTRX\n",
       "AAPL   1.000000  0.706800  0.534515  0.660537  0.794529  0.616826  0.878539\n",
       "AMZN   0.706800  1.000000  0.485154  0.605595  0.757547  0.551941  0.804152\n",
       "JPM    0.534515  0.485154  1.000000  0.770815  0.488751  0.384680  0.713587\n",
       "MS     0.660537  0.605595  0.770815  1.000000  0.604288  0.525405  0.813058\n",
       "MSFT   0.794529  0.757547  0.488751  0.604288  1.000000  0.496469  0.850903\n",
       "TSLA   0.616826  0.551941  0.384680  0.525405  0.496469  1.000000  0.610893\n",
       "TSTRX  0.878539  0.804152  0.713587  0.813058  0.850903  0.610893  1.000000"
      ]
     },
     "execution_count": 27,
     "metadata": {},
     "output_type": "execute_result"
    }
   ],
   "source": [
    "#correlation matrix with all seven assets\n",
    "returns.corr()"
   ]
  },
  {
   "cell_type": "code",
   "execution_count": 28,
   "id": "4721f61b-70a1-4e6d-98c5-d6507189e563",
   "metadata": {},
   "outputs": [
    {
     "data": {
      "text/plain": [
       "AAPL     0.271083\n",
       "AMZN     0.229643\n",
       "JPM     -0.021085\n",
       "MS       0.041028\n",
       "MSFT     0.205163\n",
       "TSLA     0.684202\n",
       "TSTRX    0.069750\n",
       "dtype: float64"
      ]
     },
     "execution_count": 28,
     "metadata": {},
     "output_type": "execute_result"
    }
   ],
   "source": [
    "#yearly returns\n",
    "annual_return = adjclose.resample('Y').last().pct_change().mean()\n",
    "annual_return"
   ]
  },
  {
   "cell_type": "code",
   "execution_count": 29,
   "id": "84c5034f-5092-43cc-bb31-3a6d8624c583",
   "metadata": {},
   "outputs": [
    {
     "data": {
      "text/plain": [
       "AAPL     0.346304\n",
       "AMZN     0.482102\n",
       "JPM      0.282411\n",
       "MS       0.300113\n",
       "MSFT     0.348118\n",
       "TSLA     0.670678\n",
       "TSTRX    0.232694\n",
       "dtype: float64"
      ]
     },
     "execution_count": 29,
     "metadata": {},
     "output_type": "execute_result"
    }
   ],
   "source": [
    "#annual standard deviation\n",
    "annual_sd = adjclose.pct_change().apply(lambda x: np.log(1+x)).std().apply(lambda x: x*np.sqrt(250))\n",
    "annual_sd"
   ]
  },
  {
   "cell_type": "code",
   "execution_count": 30,
   "id": "16898365-3dc3-4d9f-807c-bcc10c95248a",
   "metadata": {},
   "outputs": [
    {
     "data": {
      "text/html": [
       "<div>\n",
       "<style scoped>\n",
       "    .dataframe tbody tr th:only-of-type {\n",
       "        vertical-align: middle;\n",
       "    }\n",
       "\n",
       "    .dataframe tbody tr th {\n",
       "        vertical-align: top;\n",
       "    }\n",
       "\n",
       "    .dataframe thead th {\n",
       "        text-align: right;\n",
       "    }\n",
       "</style>\n",
       "<table border=\"1\" class=\"dataframe\">\n",
       "  <thead>\n",
       "    <tr style=\"text-align: right;\">\n",
       "      <th></th>\n",
       "      <th>Returns</th>\n",
       "      <th>Volatility</th>\n",
       "    </tr>\n",
       "  </thead>\n",
       "  <tbody>\n",
       "    <tr>\n",
       "      <th>AAPL</th>\n",
       "      <td>0.271083</td>\n",
       "      <td>0.346304</td>\n",
       "    </tr>\n",
       "    <tr>\n",
       "      <th>AMZN</th>\n",
       "      <td>0.229643</td>\n",
       "      <td>0.482102</td>\n",
       "    </tr>\n",
       "    <tr>\n",
       "      <th>JPM</th>\n",
       "      <td>-0.021085</td>\n",
       "      <td>0.282411</td>\n",
       "    </tr>\n",
       "    <tr>\n",
       "      <th>MS</th>\n",
       "      <td>0.041028</td>\n",
       "      <td>0.300113</td>\n",
       "    </tr>\n",
       "    <tr>\n",
       "      <th>MSFT</th>\n",
       "      <td>0.205163</td>\n",
       "      <td>0.348118</td>\n",
       "    </tr>\n",
       "    <tr>\n",
       "      <th>TSLA</th>\n",
       "      <td>0.684202</td>\n",
       "      <td>0.670678</td>\n",
       "    </tr>\n",
       "    <tr>\n",
       "      <th>TSTRX</th>\n",
       "      <td>0.069750</td>\n",
       "      <td>0.232694</td>\n",
       "    </tr>\n",
       "  </tbody>\n",
       "</table>\n",
       "</div>"
      ],
      "text/plain": [
       "        Returns  Volatility\n",
       "AAPL   0.271083    0.346304\n",
       "AMZN   0.229643    0.482102\n",
       "JPM   -0.021085    0.282411\n",
       "MS     0.041028    0.300113\n",
       "MSFT   0.205163    0.348118\n",
       "TSLA   0.684202    0.670678\n",
       "TSTRX  0.069750    0.232694"
      ]
     },
     "execution_count": 30,
     "metadata": {},
     "output_type": "execute_result"
    }
   ],
   "source": [
    "assets = pd.concat([annual_return, annual_sd], axis=1) # Creating a table for visualising returns and volatility of assets\n",
    "assets.columns = ['Returns', 'Volatility']\n",
    "assets"
   ]
  },
  {
   "cell_type": "code",
   "execution_count": 31,
   "id": "ea6770c4-ed79-4090-b307-0c292f1244dd",
   "metadata": {},
   "outputs": [
    {
     "data": {
      "text/html": [
       "<div>\n",
       "<style scoped>\n",
       "    .dataframe tbody tr th:only-of-type {\n",
       "        vertical-align: middle;\n",
       "    }\n",
       "\n",
       "    .dataframe tbody tr th {\n",
       "        vertical-align: top;\n",
       "    }\n",
       "\n",
       "    .dataframe thead th {\n",
       "        text-align: right;\n",
       "    }\n",
       "</style>\n",
       "<table border=\"1\" class=\"dataframe\">\n",
       "  <thead>\n",
       "    <tr style=\"text-align: right;\">\n",
       "      <th></th>\n",
       "      <th>AAPL</th>\n",
       "      <th>AMZN</th>\n",
       "      <th>JPM</th>\n",
       "      <th>MS</th>\n",
       "      <th>MSFT</th>\n",
       "      <th>TSLA</th>\n",
       "      <th>TSTRX</th>\n",
       "    </tr>\n",
       "  </thead>\n",
       "  <tbody>\n",
       "    <tr>\n",
       "      <th>AAPL</th>\n",
       "      <td>0.000480</td>\n",
       "      <td>0.000470</td>\n",
       "      <td>0.000209</td>\n",
       "      <td>0.000274</td>\n",
       "      <td>0.000383</td>\n",
       "      <td>0.000574</td>\n",
       "      <td>0.000283</td>\n",
       "    </tr>\n",
       "    <tr>\n",
       "      <th>AMZN</th>\n",
       "      <td>0.000470</td>\n",
       "      <td>0.000930</td>\n",
       "      <td>0.000264</td>\n",
       "      <td>0.000349</td>\n",
       "      <td>0.000508</td>\n",
       "      <td>0.000706</td>\n",
       "      <td>0.000360</td>\n",
       "    </tr>\n",
       "    <tr>\n",
       "      <th>JPM</th>\n",
       "      <td>0.000209</td>\n",
       "      <td>0.000264</td>\n",
       "      <td>0.000319</td>\n",
       "      <td>0.000261</td>\n",
       "      <td>0.000191</td>\n",
       "      <td>0.000289</td>\n",
       "      <td>0.000187</td>\n",
       "    </tr>\n",
       "    <tr>\n",
       "      <th>MS</th>\n",
       "      <td>0.000274</td>\n",
       "      <td>0.000349</td>\n",
       "      <td>0.000261</td>\n",
       "      <td>0.000360</td>\n",
       "      <td>0.000252</td>\n",
       "      <td>0.000420</td>\n",
       "      <td>0.000227</td>\n",
       "    </tr>\n",
       "    <tr>\n",
       "      <th>MSFT</th>\n",
       "      <td>0.000383</td>\n",
       "      <td>0.000508</td>\n",
       "      <td>0.000191</td>\n",
       "      <td>0.000252</td>\n",
       "      <td>0.000485</td>\n",
       "      <td>0.000460</td>\n",
       "      <td>0.000275</td>\n",
       "    </tr>\n",
       "    <tr>\n",
       "      <th>TSLA</th>\n",
       "      <td>0.000574</td>\n",
       "      <td>0.000706</td>\n",
       "      <td>0.000289</td>\n",
       "      <td>0.000420</td>\n",
       "      <td>0.000460</td>\n",
       "      <td>0.001799</td>\n",
       "      <td>0.000380</td>\n",
       "    </tr>\n",
       "    <tr>\n",
       "      <th>TSTRX</th>\n",
       "      <td>0.000283</td>\n",
       "      <td>0.000360</td>\n",
       "      <td>0.000187</td>\n",
       "      <td>0.000227</td>\n",
       "      <td>0.000275</td>\n",
       "      <td>0.000380</td>\n",
       "      <td>0.000217</td>\n",
       "    </tr>\n",
       "  </tbody>\n",
       "</table>\n",
       "</div>"
      ],
      "text/plain": [
       "           AAPL      AMZN       JPM        MS      MSFT      TSLA     TSTRX\n",
       "AAPL   0.000480  0.000470  0.000209  0.000274  0.000383  0.000574  0.000283\n",
       "AMZN   0.000470  0.000930  0.000264  0.000349  0.000508  0.000706  0.000360\n",
       "JPM    0.000209  0.000264  0.000319  0.000261  0.000191  0.000289  0.000187\n",
       "MS     0.000274  0.000349  0.000261  0.000360  0.000252  0.000420  0.000227\n",
       "MSFT   0.000383  0.000508  0.000191  0.000252  0.000485  0.000460  0.000275\n",
       "TSLA   0.000574  0.000706  0.000289  0.000420  0.000460  0.001799  0.000380\n",
       "TSTRX  0.000283  0.000360  0.000187  0.000227  0.000275  0.000380  0.000217"
      ]
     },
     "execution_count": 31,
     "metadata": {},
     "output_type": "execute_result"
    }
   ],
   "source": [
    "covariance_matrix = adjclose.pct_change().apply(lambda x: np.log(1+x)).cov()\n",
    "covariance_matrix"
   ]
  },
  {
   "cell_type": "code",
   "execution_count": 33,
   "id": "6238d64c-0939-4061-bad5-cb92bc4c6548",
   "metadata": {},
   "outputs": [],
   "source": [
    "p_ret = [] #portfolio returns\n",
    "p_vol = [] #portfolio volatility\n",
    "p_weights = [] #asset weights\n",
    "num_assets = len(adjclose.columns)\n",
    "num_portfolios = 500"
   ]
  },
  {
   "cell_type": "code",
   "execution_count": 34,
   "id": "19b6c2d0-0488-4269-8808-6dc2cb7541be",
   "metadata": {},
   "outputs": [],
   "source": [
    "#for loop of assets in portfolio and their expected returns\n",
    "#building the efficient frontier\n",
    "for portfolio in range(num_portfolios):\n",
    "    weights = np.random.random(num_assets)\n",
    "    weights = weights/np.sum(weights)\n",
    "    p_weights.append(weights)\n",
    "    returns = np.dot(weights, annual_return) # Returns are the product of individual expected returns of asset and its \n",
    "                                      # weights \n",
    "    p_ret.append(returns)\n",
    "    var = covariance_matrix.mul(weights, axis=0).mul(weights, axis=1).sum().sum()# Portfolio Variance\n",
    "    sd = np.sqrt(var) # Daily standard deviation\n",
    "    ann_sd = sd*np.sqrt(250) # Annual standard deviation = volatility\n",
    "    p_vol.append(ann_sd)"
   ]
  },
  {
   "cell_type": "code",
   "execution_count": 35,
   "id": "1a91033a-e419-4210-96c3-1489872ca8ec",
   "metadata": {},
   "outputs": [],
   "source": [
    "data = {'Returns':p_ret, 'Volatility':p_vol}\n",
    "\n",
    "for counter, symbol in enumerate(adjclose.columns.tolist()):\n",
    "    #print(counter, symbol)\n",
    "    data[symbol+' weight'] = [w[counter] for w in p_weights]"
   ]
  },
  {
   "cell_type": "code",
   "execution_count": 38,
   "id": "68e1cee0-78c9-4b79-b392-bb7b964f1b40",
   "metadata": {},
   "outputs": [
    {
     "data": {
      "text/html": [
       "<div>\n",
       "<style scoped>\n",
       "    .dataframe tbody tr th:only-of-type {\n",
       "        vertical-align: middle;\n",
       "    }\n",
       "\n",
       "    .dataframe tbody tr th {\n",
       "        vertical-align: top;\n",
       "    }\n",
       "\n",
       "    .dataframe thead th {\n",
       "        text-align: right;\n",
       "    }\n",
       "</style>\n",
       "<table border=\"1\" class=\"dataframe\">\n",
       "  <thead>\n",
       "    <tr style=\"text-align: right;\">\n",
       "      <th></th>\n",
       "      <th>Returns</th>\n",
       "      <th>Volatility</th>\n",
       "      <th>AAPL weight</th>\n",
       "      <th>AMZN weight</th>\n",
       "      <th>JPM weight</th>\n",
       "      <th>MS weight</th>\n",
       "      <th>MSFT weight</th>\n",
       "      <th>TSLA weight</th>\n",
       "      <th>TSTRX weight</th>\n",
       "    </tr>\n",
       "  </thead>\n",
       "  <tbody>\n",
       "    <tr>\n",
       "      <th>0</th>\n",
       "      <td>0.250015</td>\n",
       "      <td>0.330806</td>\n",
       "      <td>0.045534</td>\n",
       "      <td>0.075354</td>\n",
       "      <td>0.233599</td>\n",
       "      <td>0.076315</td>\n",
       "      <td>0.234018</td>\n",
       "      <td>0.245375</td>\n",
       "      <td>0.089805</td>\n",
       "    </tr>\n",
       "    <tr>\n",
       "      <th>1</th>\n",
       "      <td>0.181120</td>\n",
       "      <td>0.300281</td>\n",
       "      <td>0.049276</td>\n",
       "      <td>0.165174</td>\n",
       "      <td>0.195505</td>\n",
       "      <td>0.029481</td>\n",
       "      <td>0.168042</td>\n",
       "      <td>0.115369</td>\n",
       "      <td>0.277153</td>\n",
       "    </tr>\n",
       "    <tr>\n",
       "      <th>2</th>\n",
       "      <td>0.221876</td>\n",
       "      <td>0.315472</td>\n",
       "      <td>0.281310</td>\n",
       "      <td>0.151849</td>\n",
       "      <td>0.189928</td>\n",
       "      <td>0.043254</td>\n",
       "      <td>0.084416</td>\n",
       "      <td>0.127387</td>\n",
       "      <td>0.121856</td>\n",
       "    </tr>\n",
       "    <tr>\n",
       "      <th>3</th>\n",
       "      <td>0.253148</td>\n",
       "      <td>0.331869</td>\n",
       "      <td>0.019123</td>\n",
       "      <td>0.122369</td>\n",
       "      <td>0.001177</td>\n",
       "      <td>0.041651</td>\n",
       "      <td>0.133103</td>\n",
       "      <td>0.233153</td>\n",
       "      <td>0.449424</td>\n",
       "    </tr>\n",
       "    <tr>\n",
       "      <th>4</th>\n",
       "      <td>0.171743</td>\n",
       "      <td>0.297015</td>\n",
       "      <td>0.241944</td>\n",
       "      <td>0.132559</td>\n",
       "      <td>0.199199</td>\n",
       "      <td>0.212552</td>\n",
       "      <td>0.047098</td>\n",
       "      <td>0.081223</td>\n",
       "      <td>0.085425</td>\n",
       "    </tr>\n",
       "  </tbody>\n",
       "</table>\n",
       "</div>"
      ],
      "text/plain": [
       "    Returns  Volatility  AAPL weight  AMZN weight  JPM weight  MS weight  \\\n",
       "0  0.250015    0.330806     0.045534     0.075354    0.233599   0.076315   \n",
       "1  0.181120    0.300281     0.049276     0.165174    0.195505   0.029481   \n",
       "2  0.221876    0.315472     0.281310     0.151849    0.189928   0.043254   \n",
       "3  0.253148    0.331869     0.019123     0.122369    0.001177   0.041651   \n",
       "4  0.171743    0.297015     0.241944     0.132559    0.199199   0.212552   \n",
       "\n",
       "   MSFT weight  TSLA weight  TSTRX weight  \n",
       "0     0.234018     0.245375      0.089805  \n",
       "1     0.168042     0.115369      0.277153  \n",
       "2     0.084416     0.127387      0.121856  \n",
       "3     0.133103     0.233153      0.449424  \n",
       "4     0.047098     0.081223      0.085425  "
      ]
     },
     "execution_count": 38,
     "metadata": {},
     "output_type": "execute_result"
    }
   ],
   "source": [
    "portfolios  = pd.DataFrame(data)\n",
    "portfolios.head() # Dataframe of the portfolios created"
   ]
  },
  {
   "cell_type": "code",
   "execution_count": 39,
   "id": "14acd3ad-a2f2-42de-b339-b67bffcab728",
   "metadata": {},
   "outputs": [
    {
     "data": {
      "text/plain": [
       "<AxesSubplot:xlabel='Volatility', ylabel='Returns'>"
      ]
     },
     "execution_count": 39,
     "metadata": {},
     "output_type": "execute_result"
    },
    {
     "data": {
      "image/png": "[encoded data removed]",
      "text/plain": [
       "<Figure size 720x720 with 1 Axes>"
      ]
     },
     "metadata": {
      "needs_background": "light"
     },
     "output_type": "display_data"
    }
   ],
   "source": [
    "# Plot efficient frontier\n",
    "portfolios.plot.scatter(x='Volatility', y='Returns', marker='o', s=10, alpha=0.3, grid=True, figsize=[10,10])"
   ]
  },
  {
   "cell_type": "code",
   "execution_count": 40,
   "id": "da9f4e1d-b537-4418-83ae-ed0bc71eb8d7",
   "metadata": {},
   "outputs": [
    {
     "data": {
      "text/plain": [
       "Returns         0.106357\n",
       "Volatility      0.258292\n",
       "AAPL weight     0.106147\n",
       "AMZN weight     0.006516\n",
       "JPM weight      0.341892\n",
       "MS weight       0.058130\n",
       "MSFT weight     0.171888\n",
       "TSLA weight     0.038480\n",
       "TSTRX weight    0.276947\n",
       "Name: 285, dtype: float64"
      ]
     },
     "execution_count": 40,
     "metadata": {},
     "output_type": "execute_result"
    }
   ],
   "source": [
    "min_vol_port = portfolios.iloc[portfolios['Volatility'].idxmin()]\n",
    "# idxmin() gives us the minimum value in the column specified.                               \n",
    "min_vol_port"
   ]
  },
  {
   "cell_type": "code",
   "execution_count": 41,
   "id": "262709fd-b35e-45f5-bcf2-f486aeb2c108",
   "metadata": {},
   "outputs": [
    {
     "data": {
      "text/plain": [
       "<matplotlib.collections.PathCollection at 0x7fee27f2a6a0>"
      ]
     },
     "execution_count": 41,
     "metadata": {},
     "output_type": "execute_result"
    },
    {
     "data": {
      "image/png": "[encoded data removed]",
      "text/plain": [
       "<Figure size 720x720 with 1 Axes>"
      ]
     },
     "metadata": {
      "needs_background": "light"
     },
     "output_type": "display_data"
    }
   ],
   "source": [
    "# plotting the minimum volatility portfolio\n",
    "plt.subplots(figsize=[10,10])\n",
    "plt.scatter(portfolios['Volatility'], portfolios['Returns'],marker='o', s=10, alpha=0.3)\n",
    "plt.scatter(min_vol_port[1], min_vol_port[0], color='r', marker='*', s=500)"
   ]
  },
  {
   "cell_type": "code",
   "execution_count": 42,
   "id": "0d34d337-81b7-415b-ac7e-180f4b97e8e5",
   "metadata": {},
   "outputs": [
    {
     "data": {
      "text/plain": [
       "Returns         0.446641\n",
       "Volatility      0.466615\n",
       "AAPL weight     0.033447\n",
       "AMZN weight     0.008931\n",
       "JPM weight      0.125269\n",
       "MS weight       0.046605\n",
       "MSFT weight     0.140159\n",
       "TSLA weight     0.589904\n",
       "TSTRX weight    0.055685\n",
       "Name: 109, dtype: float64"
      ]
     },
     "execution_count": 42,
     "metadata": {},
     "output_type": "execute_result"
    }
   ],
   "source": [
    "# Finding the optimal portfolio\n",
    "rf = 0.01 # risk factor\n",
    "optimal_risky_port = portfolios.iloc[((portfolios['Returns']-rf)/portfolios['Volatility']).idxmax()]\n",
    "optimal_risky_port"
   ]
  },
  {
   "cell_type": "code",
   "execution_count": 43,
   "id": "40a6d08e-9191-474a-84eb-16b3be350cbd",
   "metadata": {},
   "outputs": [
    {
     "data": {
      "text/plain": [
       "<matplotlib.collections.PathCollection at 0x7fee27cefe20>"
      ]
     },
     "execution_count": 43,
     "metadata": {},
     "output_type": "execute_result"
    },
    {
     "data": {
      "image/png": "[encoded data removed]",
      "text/plain": [
       "<Figure size 720x720 with 1 Axes>"
      ]
     },
     "metadata": {
      "needs_background": "light"
     },
     "output_type": "display_data"
    }
   ],
   "source": [
    "# Plotting optimal portfolio\n",
    "plt.subplots(figsize=(10, 10))\n",
    "plt.scatter(portfolios['Volatility'], portfolios['Returns'],marker='o', s=10, alpha=0.3)\n",
    "plt.scatter(min_vol_port[1], min_vol_port[0], color='r', marker='*', s=500)\n",
    "plt.scatter(optimal_risky_port[1], optimal_risky_port[0], color='g', marker='*', s=500)"
   ]
  },
  {
   "cell_type": "code",
   "execution_count": null,
   "id": "c3927901-9189-4d00-af21-6c76270dee46",
   "metadata": {},
   "outputs": [],
   "source": []
  }
 ],
 "metadata": {
  "kernelspec": {
   "display_name": "Python 3 (ipykernel)",
   "language": "python",
   "name": "python3"
  },
  "language_info": {
   "codemirror_mode": {
    "name": "ipython",
    "version": 3
   },
   "file_extension": ".py",
   "mimetype": "text/x-python",
   "name": "python",
   "nbconvert_exporter": "python",
   "pygments_lexer": "ipython3",
   "version": "3.9.7"
  }
 },
 "nbformat": 4,
 "nbformat_minor": 5
}
